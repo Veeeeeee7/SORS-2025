{
 "cells": [
  {
   "cell_type": "code",
   "execution_count": 7,
   "id": "7771bf31",
   "metadata": {},
   "outputs": [
    {
     "name": "stdout",
     "output_type": "stream",
     "text": [
      "data shape: (8733, 437, 24, 6)\n",
      "static shape: (437, 2)\n",
      "null stations shape: (749443, 2)\n"
     ]
    }
   ],
   "source": [
    "import pandas as pd\n",
    "import numpy as np\n",
    "\n",
    "root = '/Users/victorli/Documents/GitHub/SORS-2025/TST/'\n",
    "log_file = root + 'log.txt'\n",
    "model_path = '/Users/victorli/Documents/GitHub/SORS-2025/TST/model.pth'\n",
    "\n",
    "data_path = root + 'data/data_windowed.npy'\n",
    "static_path = root + 'data/static.npy'\n",
    "null_stations_path = root + 'data/null_stations.npy'\n",
    "\n",
    "data = np.load(data_path)\n",
    "\n",
    "static = np.load(static_path)\n",
    "\n",
    "null_stations = np.load(null_stations_path)\n",
    "null_stations_set = set(map(tuple, null_stations))\n",
    "\n",
    "print(f\"data shape: {data.shape}\")\n",
    "print(f\"static shape: {static.shape}\")\n",
    "print(f\"null stations shape: {null_stations.shape}\")"
   ]
  },
  {
   "cell_type": "code",
   "execution_count": 9,
   "id": "4e4ff96d",
   "metadata": {},
   "outputs": [
    {
     "name": "stdout",
     "output_type": "stream",
     "text": [
      "Sample 132 has 171\n",
      "Sample 133 has 171\n",
      "Sample 134 has 171\n",
      "Sample 135 has 171\n",
      "Sample 136 has 171\n",
      "Sample 137 has 172\n",
      "Sample 138 has 172\n",
      "Sample 139 has 172\n",
      "Sample 140 has 173\n",
      "Sample 141 has 173\n",
      "Sample 142 has 173\n",
      "Sample 143 has 173\n",
      "Sample 144 has 173\n",
      "Sample 145 has 172\n",
      "Sample 146 has 172\n",
      "Sample 147 has 172\n",
      "Sample 148 has 172\n",
      "Sample 149 has 172\n",
      "Sample 150 has 172\n",
      "Sample 151 has 172\n",
      "Sample 152 has 172\n",
      "Sample 153 has 172\n",
      "Sample 154 has 172\n",
      "Sample 155 has 172\n",
      "Sample 156 has 172\n",
      "Sample 157 has 173\n",
      "Sample 1453 has 170\n",
      "Sample 1454 has 169\n",
      "Sample 1455 has 169\n",
      "Sample 1456 has 169\n",
      "Sample 1457 has 170\n",
      "Sample 1458 has 170\n",
      "Sample 1459 has 170\n",
      "Sample 1460 has 170\n",
      "Sample 1461 has 170\n",
      "Sample 1462 has 170\n",
      "Sample 1463 has 170\n",
      "Sample 1464 has 170\n",
      "Sample 1465 has 170\n",
      "Sample 1466 has 170\n",
      "Sample 1766 has 170\n",
      "Sample 1767 has 170\n",
      "Sample 1768 has 170\n",
      "Sample 1769 has 170\n",
      "Sample 1770 has 170\n",
      "Sample 1771 has 170\n",
      "Sample 1772 has 170\n",
      "Sample 1773 has 169\n",
      "Sample 1774 has 169\n",
      "Sample 1775 has 169\n",
      "Sample 1776 has 169\n",
      "Sample 1777 has 169\n",
      "Sample 1778 has 169\n",
      "Sample 1779 has 169\n",
      "Sample 1780 has 169\n",
      "Sample 1781 has 169\n",
      "Sample 1782 has 169\n",
      "Sample 1783 has 169\n",
      "Sample 1784 has 169\n",
      "Sample 1785 has 169\n",
      "Sample 1786 has 169\n",
      "Sample 1787 has 170\n",
      "Sample 1788 has 169\n"
     ]
    }
   ],
   "source": [
    "num_sensors_list = []\n",
    "for sample in range(data.shape[0]):\n",
    "    num_sensors = data.shape[1]\n",
    "    for sensor in range(data.shape[1]):\n",
    "        if (sample, sensor) in null_stations_set:\n",
    "            num_sensors -= 1\n",
    "    num_sensors_list.append(num_sensors)\n",
    "\n",
    "for i in range(len(num_sensors_list)):\n",
    "    if num_sensors_list[i] < 200:\n",
    "        print(f\"Sample {i} has {num_sensors_list[i]}\")"
   ]
  },
  {
   "cell_type": "code",
   "execution_count": null,
   "id": "90c8df72",
   "metadata": {},
   "outputs": [],
   "source": []
  }
 ],
 "metadata": {
  "kernelspec": {
   "display_name": ".venv",
   "language": "python",
   "name": "python3"
  },
  "language_info": {
   "codemirror_mode": {
    "name": "ipython",
    "version": 3
   },
   "file_extension": ".py",
   "mimetype": "text/x-python",
   "name": "python",
   "nbconvert_exporter": "python",
   "pygments_lexer": "ipython3",
   "version": "3.11.7"
  }
 },
 "nbformat": 4,
 "nbformat_minor": 5
}
