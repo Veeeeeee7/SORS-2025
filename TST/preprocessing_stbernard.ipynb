{
 "cells": [
  {
   "cell_type": "code",
   "execution_count": 1,
   "id": "83018a42",
   "metadata": {},
   "outputs": [],
   "source": [
    "import pandas as pd\n",
    "import numpy as np\n",
    "import os\n",
    "from numpy.lib.stride_tricks import sliding_window_view"
   ]
  },
  {
   "cell_type": "code",
   "execution_count": 9,
   "id": "a61359b1",
   "metadata": {},
   "outputs": [
    {
     "name": "stderr",
     "output_type": "stream",
     "text": [
      "/var/folders/hb/3k_51w_j5yd8v5cpqy1brfqr0000gn/T/ipykernel_46511/2943465197.py:19: FutureWarning: The behavior of DataFrame concatenation with empty or all-NA entries is deprecated. In a future version, this will no longer exclude empty or all-NA columns when determining the result dtypes. To retain the old behavior, exclude the relevant entries before the concat operation.\n",
      "  df = pd.concat([df, cur], ignore_index=True)\n"
     ]
    },
    {
     "name": "stdout",
     "output_type": "stream",
     "text": [
      "station_id: 0.0000\n",
      "year: 0.0000\n",
      "month: 0.0000\n",
      "day: 0.0000\n",
      "hour: 0.0000\n",
      "minute: 0.0000\n",
      "ambient_temp: 0.0014\n",
      "surface_temp: 0.0005\n",
      "rain_meter: 0.0000\n",
      "wind_direction: 0.0015\n"
     ]
    }
   ],
   "source": [
    "directory = \"/Users/victorli/Downloads/Sensorscope/stbernard-meteo/\"\n",
    "original_columns = ['station_id', 'year', 'month', 'day', 'hour', 'minute', 'second', 'time_since_epoch', 'ambient_temp', 'surface_temp', 'solar_radiation', 'relative_humidity', 'soil_moisture', 'watermark', 'rain_meter', 'wind_speed', 'wind_direction']\n",
    "dropped_columns = ['time_since_epoch', 'second', 'solar_radiation', 'wind_speed', 'relative_humidity', 'soil_moisture', 'watermark']\n",
    "columns = [col for col in original_columns if col not in dropped_columns]\n",
    "\n",
    "df = pd.DataFrame(columns=columns)\n",
    "\n",
    "nan_rates = {col: [] for col in columns}\n",
    "\n",
    "for filename in os.listdir(directory):\n",
    "    file_path = os.path.join(directory, filename)\n",
    "    if os.path.isfile(file_path):\n",
    "        if file_path == \"/Users/victorli/Downloads/Sensorscope/stbernard-meteo/.DS_Store\":\n",
    "            continue\n",
    "        cur = pd.read_csv(file_path, sep=' ', header=None)\n",
    "        cur.columns = original_columns\n",
    "        cur = cur.drop(['time_since_epoch', 'second', 'solar_radiation', 'wind_speed', 'relative_humidity', 'soil_moisture', 'watermark'], axis=1)\n",
    "\n",
    "        df = pd.concat([df, cur], ignore_index=True)\n",
    "\n",
    "        for col in cur.columns:\n",
    "            nan_rate = cur[col].isna().mean()\n",
    "            nan_rates[col].append(nan_rate)\n",
    "\n",
    "avg_nan_rates = {col: np.mean(nan_rates[col]) for col in columns}\n",
    "for col, avg_rate in avg_nan_rates.items():\n",
    "    print(f\"{col}: {avg_rate:.4f}\")"
   ]
  },
  {
   "cell_type": "code",
   "execution_count": 11,
   "id": "eb34303b",
   "metadata": {},
   "outputs": [
    {
     "name": "stdout",
     "output_type": "stream",
     "text": [
      "(31, 1, 2, 30, 24, 60, 4)\n"
     ]
    }
   ],
   "source": [
    "num_stations = 31\n",
    "num_years = 1\n",
    "num_months = 2\n",
    "num_days = 30\n",
    "num_hours = 24\n",
    "num_minutes = 60\n",
    "\n",
    "data = np.full((num_stations, num_years, num_months, num_days, num_hours, num_minutes, len(columns) - 6), np.nan)\n",
    "print(data.shape)\n",
    "\n",
    "for idx, row in df.iterrows():\n",
    "    station = int(row['station_id']) - 2\n",
    "    year = int(row['year']) - 2007\n",
    "    month = int(row['month']) - 9\n",
    "    day = int(row['day']) - 1\n",
    "    hour = int(row['hour'])\n",
    "    minute = int(row['minute'])\n",
    "\n",
    "    # Select only the columns for data (excluding first 6: station_id, year, month, day, hour, minute)\n",
    "    values = row[columns[6:]].values\n",
    "    data[station, year, month, day, hour, minute, :] = values"
   ]
  },
  {
   "cell_type": "code",
   "execution_count": 12,
   "id": "562da6d0",
   "metadata": {},
   "outputs": [
    {
     "name": "stdout",
     "output_type": "stream",
     "text": [
      "(31, 86400, 4)\n"
     ]
    }
   ],
   "source": [
    "reshaped_data = data.reshape(num_stations, num_years * num_months * num_days * num_hours * num_minutes, data.shape[-1])\n",
    "print(reshaped_data.shape)"
   ]
  },
  {
   "cell_type": "code",
   "execution_count": 13,
   "id": "402b2184",
   "metadata": {},
   "outputs": [
    {
     "name": "stdout",
     "output_type": "stream",
     "text": [
      "(31, 86377, 4, 24)\n"
     ]
    }
   ],
   "source": [
    "data = sliding_window_view(reshaped_data, window_shape=24, axis=1)\n",
    "print(data.shape)"
   ]
  },
  {
   "cell_type": "code",
   "execution_count": 23,
   "id": "f8ca10d5",
   "metadata": {},
   "outputs": [
    {
     "name": "stdout",
     "output_type": "stream",
     "text": [
      "Number of samples with NaN values: 25656\n",
      "Number of samples with not enough sensors: 48756\n",
      "(31, 11965, 4, 24)\n"
     ]
    }
   ],
   "source": [
    "null_samples_indices = []\n",
    "for time_idx in range(data.shape[1]):\n",
    "    if np.isnan(data[:, time_idx, :, :]).all():\n",
    "        null_samples_indices.append(time_idx)\n",
    "print(f\"Number of samples with NaN values: {len(null_samples_indices)}\")\n",
    "\n",
    "data_non_null = np.delete(data, null_samples_indices, axis=1)\n",
    "\n",
    "not_enough_sensors_indices = []\n",
    "for time_idx in range(data_non_null.shape[1]):\n",
    "    count = 0\n",
    "    for sensor_idx in range(data_non_null.shape[0]):\n",
    "        if not np.isnan(data_non_null[sensor_idx, time_idx, :, :]).all():\n",
    "            count += 1\n",
    "    \n",
    "    if count < 23:\n",
    "        not_enough_sensors_indices.append(time_idx)\n",
    "\n",
    "print(f\"Number of samples with not enough sensors: {len(not_enough_sensors_indices)}\")\n",
    "\n",
    "data_final = np.delete(data_non_null, not_enough_sensors_indices, axis=1)\n",
    "data = data_final\n",
    "print(data.shape)"
   ]
  },
  {
   "cell_type": "code",
   "execution_count": 24,
   "id": "eb56ef67",
   "metadata": {},
   "outputs": [
    {
     "name": "stdout",
     "output_type": "stream",
     "text": [
      "95720\n"
     ]
    }
   ],
   "source": [
    "null_set = set()\n",
    "\n",
    "for sensor_idx in range(data.shape[0]):\n",
    "    for time_idx in range(data.shape[1]):\n",
    "        curr = data[sensor_idx, time_idx, :, :]\n",
    "        if np.isnan(curr).all():\n",
    "            null_set.add((time_idx, sensor_idx))\n",
    "\n",
    "print(len(null_set))"
   ]
  },
  {
   "cell_type": "code",
   "execution_count": 25,
   "id": "5a8e3d6e",
   "metadata": {},
   "outputs": [],
   "source": [
    "data_filled = data.copy()\n",
    "\n",
    "for sensor_idx in range(data.shape[0]):\n",
    "    for time_idx in range(data.shape[1]):\n",
    "        if (time_idx, sensor_idx) not in null_set:\n",
    "            sample = data[sensor_idx, time_idx, :, :]\n",
    "            sample_filled = sample.copy()\n",
    "\n",
    "            x = np.arange(sample.shape[1])  # sequence positions\n",
    "            for i in range(sample.shape[0]):\n",
    "                y = sample[i]\n",
    "                mask = ~np.isnan(y)\n",
    "                valid_vals = y[mask]\n",
    "                \n",
    "                if mask.sum() > 1:\n",
    "                    sample_filled[i] = np.interp(x, x[mask], valid_vals)      # linear interpolation\n",
    "                elif mask.sum() == 1:\n",
    "                    sample_filled[i] = valid_vals[0]\n",
    "\n",
    "            data_filled[sensor_idx, time_idx, :, :] = sample_filled"
   ]
  },
  {
   "cell_type": "code",
   "execution_count": 26,
   "id": "802bfdd2",
   "metadata": {},
   "outputs": [
    {
     "name": "stdout",
     "output_type": "stream",
     "text": [
      "(11965, 31, 24, 4)\n",
      "(95720, 2)\n"
     ]
    }
   ],
   "source": [
    "data_filled = data_filled.transpose(1, 0, 3, 2)\n",
    "print(data_filled.shape)\n",
    "print(np.array(list(null_set)).shape)\n",
    "\n",
    "np.save('../data/stbernard_null_set.npy', np.array(list(null_set)))\n",
    "np.save('../data/stbernard_data_filled.npy', data_filled)"
   ]
  },
  {
   "cell_type": "code",
   "execution_count": 27,
   "id": "ea3cc0bf",
   "metadata": {},
   "outputs": [],
   "source": [
    "static = pd.read_csv('/Users/victorli/Downloads/Sensorscope/stbernard-location/station_gsb_XY.txt', sep='\\t', header=0)\n",
    "static = static.iloc[:, [1, 2]]\n",
    "static.columns = ['latitude', 'longitude']\n",
    "np.save('../data/stbernard_static.npy', static)"
   ]
  },
  {
   "cell_type": "code",
   "execution_count": 28,
   "id": "24919601",
   "metadata": {},
   "outputs": [],
   "source": [
    "for sensor_idx in range(data.shape[0]):\n",
    "    for time_idx in range(data.shape[1]):\n",
    "        if (time_idx, sensor_idx) not in null_set:\n",
    "            sample = data[sensor_idx, time_idx, :, :]\n",
    "            assert not np.isnan(sample).all()"
   ]
  }
 ],
 "metadata": {
  "kernelspec": {
   "display_name": ".venv (3.11.7)",
   "language": "python",
   "name": "python3"
  },
  "language_info": {
   "codemirror_mode": {
    "name": "ipython",
    "version": 3
   },
   "file_extension": ".py",
   "mimetype": "text/x-python",
   "name": "python",
   "nbconvert_exporter": "python",
   "pygments_lexer": "ipython3",
   "version": "3.11.7"
  }
 },
 "nbformat": 4,
 "nbformat_minor": 5
}
